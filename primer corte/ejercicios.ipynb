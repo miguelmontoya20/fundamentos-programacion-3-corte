{
  "nbformat": 4,
  "nbformat_minor": 0,
  "metadata": {
    "colab": {
      "provenance": []
    },
    "kernelspec": {
      "name": "python3",
      "display_name": "Python 3"
    },
    "language_info": {
      "name": "python"
    }
  },
  "cells": [
    {
      "cell_type": "markdown",
      "source": [
        "elaborar un algoritmo que solucione el numero de respuestas correctas,incorrectas y en blanco,correspondientes a postulantes, y muestre su puntaje final considerando,que por cada respuesta correcta tendra 4 puntos, respuestas incorrectas tendra-1 y respuestas en blanco tendra 0."
      ],
      "metadata": {
        "id": "8F0Neg0VNB0c"
      }
    },
    {
      "cell_type": "code",
      "source": [
        "var_nombrePostulante=\"\"\n",
        "var_respuestasCorrectas = 0\n",
        "var_respuestasIncorrectas= 0\n",
        "var_respuestasBlanco= 0\n",
        "var_puntajeFinal= 0\n",
        "var_valorCorrecto = 0\n",
        "var_valorIncorrecto = 0\n",
        "var_valorBlanco = 0\n",
        "\n",
        "var_nombrePostulante= input(\"Ingresar nombre del postulante\")\n",
        "var_respuestasCorrectas = float(input(\"¿cuantas respuestas correctas tuvo el postulante?: \"))\n",
        "var_respuestasIncorrectas = float(input(\"¿cuantas respuestas incorrectas tuvo el postulante?: \"))\n",
        "var_respuestasBlanco = float(input(\"¿cuantas respuestas en blanco tuvo el postulante?: \"))\n",
        "\n",
        "var_valorCorrecto = (var_respuestasCorrectas*4)\n",
        "var_valorIncorrecto = (var_respuestasIncorrectas*(-1))\n",
        "var_valorBlanco = (var_respuestasBlanco*0)\n",
        "\n",
        "var_puntajeFinal=(var_valorCorrecto+var_valorIncorrecto)\n",
        "\n",
        "print(\"el puntaje del postulante \",var_nombrePostulante + \" es \",str(var_puntajeFinal))"
      ],
      "metadata": {
        "colab": {
          "base_uri": "https://localhost:8080/"
        },
        "id": "h9svKn-kNFym",
        "outputId": "8e5ed374-eacf-4361-824f-249e1ebab60a"
      },
      "execution_count": null,
      "outputs": [
        {
          "output_type": "stream",
          "name": "stdout",
          "text": [
            "Ingresar nombre del postulantemiguel montoya\n",
            "¿cuantas respuestas correctas tuvo el postulante?: 50\n",
            "¿cuantas respuestas incorrectas tuvo el postulante?: 30\n",
            "¿cuantas respuestas en blanco tuvo el postulante?: 20\n",
            "el puntaje del postulante  miguel montoya es  170.0\n"
          ]
        }
      ]
    }
  ]
}