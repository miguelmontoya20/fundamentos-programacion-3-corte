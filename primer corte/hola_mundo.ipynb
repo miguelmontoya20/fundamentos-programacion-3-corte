{
  "nbformat": 4,
  "nbformat_minor": 0,
  "metadata": {
    "colab": {
      "provenance": [],
      "collapsed_sections": []
    },
    "kernelspec": {
      "name": "python3",
      "display_name": "Python 3"
    },
    "language_info": {
      "name": "python"
    }
  },
  "cells": [
    {
      "cell_type": "code",
      "execution_count": null,
      "metadata": {
        "colab": {
          "base_uri": "https://localhost:8080/"
        },
        "id": "bLmMppsIkId5",
        "outputId": "160b60c2-d5b3-4750-ea07-2b4b60edb933"
      },
      "outputs": [
        {
          "output_type": "stream",
          "name": "stdout",
          "text": [
            "Digite cadena origen : MAniZaleS\n",
            "Digite texto a buscar : s\n",
            "posicion :  8\n"
          ]
        }
      ],
      "source": [
        "def buscarPosCad (texto,buscar):\n",
        "  pos=texto.find(buscar)\n",
        "  return pos\n",
        "\n",
        "#captura de datos\n",
        "textoLeer = input (\"Digite cadena origen : \")\n",
        "textoLeer = textoLeer.lower() \n",
        "\n",
        "textoBuscar = input (\"Digite texto a buscar : \")\n",
        "textoBuscar = textoBuscar.lower()\n",
        "\n",
        "# llamado de la funcion\n",
        "res= buscarPosCad (textoLeer, textoBuscar)\n",
        "\n",
        "if res >=0:\n",
        "  print (\"posicion : \", str (res))\n",
        "\n",
        "else:\n",
        "  print(\"El texto buscado no se enceuntra en la cadena de origen\")\n"
      ]
    },
    {
      "cell_type": "code",
      "source": [
        "mensaje9 = \"Hola Mundo\"\n",
        "startloc = 2\n",
        "endLoc= 8\n",
        "mensaje9b = mensaje9[startloc: endLoc]\n",
        "print(mensaje9b)\n"
      ],
      "metadata": {
        "colab": {
          "base_uri": "https://localhost:8080/"
        },
        "id": "1DdAQ-9NyNOj",
        "outputId": "0ce9501a-8fb0-4053-e1b1-d925a75a3035"
      },
      "execution_count": null,
      "outputs": [
        {
          "output_type": "stream",
          "name": "stdout",
          "text": [
            "la Mun\n"
          ]
        }
      ]
    },
    {
      "cell_type": "code",
      "source": [
        "mensaje9 = \" Hola Mundo \"\n",
        "print(mensaje9[0:8])"
      ],
      "metadata": {
        "id": "x_Lwa47j0WCy"
      },
      "execution_count": null,
      "outputs": []
    }
  ]
}