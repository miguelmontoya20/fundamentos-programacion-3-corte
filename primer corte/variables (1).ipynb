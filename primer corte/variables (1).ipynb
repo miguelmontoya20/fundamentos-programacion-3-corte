{
  "nbformat": 4,
  "nbformat_minor": 0,
  "metadata": {
    "colab": {
      "provenance": []
    },
    "kernelspec": {
      "name": "python3",
      "display_name": "Python 3"
    },
    "language_info": {
      "name": "python"
    }
  },
  "cells": [
    {
      "cell_type": "code",
      "source": [
        "respuestas_correctas= int (input (\"digite la cantidad de respuestas\"))\n",
        "respuestas_incorrectas= int (input (\"digite la cantidad de respuestas\"))\n",
        "respuestas_blanco= int (input (\"digite la cantidad de respuestas\"))\n",
        "puntaje=respuestas_correctas*4+respuestas_incorrectas*-1+respuestas_blanco*0\n",
        "print (\"valor de puntaje: \",puntaje)\n"
      ],
      "metadata": {
        "colab": {
          "base_uri": "https://localhost:8080/"
        },
        "id": "jKY-k4LsVcYH",
        "outputId": "e06cb480-b6a8-4e9b-8406-625c2fd05e0a"
      },
      "execution_count": null,
      "outputs": [
        {
          "output_type": "stream",
          "name": "stdout",
          "text": [
            "digite la cantidad de respuestas2\n",
            "digite la cantidad de respuestas6\n",
            "digite la cantidad de respuestas4\n",
            "valor de puntaje:  2\n"
          ]
        }
      ]
    }
  ]
}