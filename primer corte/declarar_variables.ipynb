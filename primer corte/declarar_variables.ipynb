{
  "nbformat": 4,
  "nbformat_minor": 0,
  "metadata": {
    "colab": {
      "provenance": []
    },
    "kernelspec": {
      "name": "python3",
      "display_name": "Python 3"
    },
    "language_info": {
      "name": "python"
    }
  },
  "cells": [
    {
      "cell_type": "code",
      "execution_count": null,
      "metadata": {
        "id": "Pkac6kwGXDK4"
      },
      "outputs": [],
      "source": [
        "\"\"\"\n",
        "programa: calculo del factorial de un numero\n",
        "Autor: FP Grupo noche\n",
        "version: 1.0\n",
        "fecha: 27_09_2222\n",
        "\"\"\""
      ]
    },
    {
      "cell_type": "code",
      "source": [],
      "metadata": {
        "id": "XaFgV6MihX8E"
      },
      "execution_count": null,
      "outputs": []
    },
    {
      "cell_type": "code",
      "source": [
        "# Declarar variables\n",
        "num=0\n",
        "fact=1\n",
        "\n",
        "#lecturas\n",
        "num= int(input(\"digite numero:\"))\n",
        "\n",
        "#Calcular los procesos\n",
        "for i in range(1,num+1):\n",
        "  fact = fact * i\n",
        "\n",
        "#Imprimir resultados\n",
        "print(\"El Factorial Es:\",str(fact))"
      ],
      "metadata": {
        "colab": {
          "base_uri": "https://localhost:8080/"
        },
        "id": "Zy4nmKT1Xmn6",
        "outputId": "1f58d543-5374-45b7-fed2-c7b44fedb611"
      },
      "execution_count": null,
      "outputs": [
        {
          "output_type": "stream",
          "name": "stdout",
          "text": [
            "digite numero:2\n",
            "El Factorial Es: 2\n"
          ]
        }
      ]
    }
  ]
}