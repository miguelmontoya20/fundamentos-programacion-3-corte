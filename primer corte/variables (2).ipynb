{
  "nbformat": 4,
  "nbformat_minor": 0,
  "metadata": {
    "colab": {
      "provenance": []
    },
    "kernelspec": {
      "name": "python3",
      "display_name": "Python 3"
    },
    "language_info": {
      "name": "python"
    }
  },
  "cells": [
    {
      "cell_type": "code",
      "execution_count": null,
      "metadata": {
        "id": "DTKXHZJZbmag"
      },
      "outputs": [],
      "source": [
        "import math\n",
        "var_lado1=0\n",
        "var_lado2=0\n",
        "var_lado3=0\n",
        "var_semiper=0\n",
        "var_valorTotal=0\n",
        "\n",
        "var_lado1= float(input(\"ingrese valor lado 1\"))\n",
        "var_lado2= float(input(\"ingrese valor lado 2\"))\n",
        "var_lado3= float(input(\"ingrese valor lado 3\"))\n",
        "\n",
        "var_semiper = (var_lado1+var_lado2+var_lado3)/2\n",
        "\n",
        "var_valorTotal = math.sqrt(var_semiper*(var_semiper-var_lado1)*(var_semiper-var_lado2)*(var_semiper-var_lado3))\n",
        "\n",
        "print(\"el valor del area es\",str(var_valorTotal))"
      ]
    }
  ]
}