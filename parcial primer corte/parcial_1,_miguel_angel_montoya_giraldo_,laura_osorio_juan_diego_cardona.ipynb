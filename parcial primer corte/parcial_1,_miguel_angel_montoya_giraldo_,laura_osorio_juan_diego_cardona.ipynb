{
  "nbformat": 4,
  "nbformat_minor": 0,
  "metadata": {
    "colab": {
      "provenance": []
    },
    "kernelspec": {
      "name": "python3",
      "display_name": "Python 3"
    },
    "language_info": {
      "name": "python"
    }
  },
  "cells": [
    {
      "cell_type": "markdown",
      "source": [
        "primer parcial : \n",
        "punto 1"
      ],
      "metadata": {
        "id": "HUW7mQr8ZfDO"
      }
    },
    {
      "cell_type": "code",
      "source": [
        "anterior = (0)\n",
        "posterior = (1)\n",
        "termino = int(input(\"por favor ingrese el numero de termino a imprimir: \"))\n",
        "\n",
        "\n",
        "\n",
        "for x in range(0,termino):\n",
        "  valor = anterior+posterior\n",
        "  anterior = posterior\n",
        "  posterior = valor\n",
        "  print(valor)"
      ],
      "metadata": {
        "id": "EKAgqSrCZmRu"
      },
      "execution_count": null,
      "outputs": []
    },
    {
      "cell_type": "markdown",
      "source": [
        "punto 2:"
      ],
      "metadata": {
        "id": "snkeWikQcXh8"
      }
    },
    {
      "cell_type": "code",
      "source": [
        "m = int(input(\"introduzca el valor de m: \"))\n",
        "n = int(input(\"introduzco el valor de n: \"))\n",
        "\n",
        "dif = m - n \n",
        "f = 1\n",
        "\n",
        "while m > dif:\n",
        "    f = f * m\n",
        "    m -= 1\n",
        "    \n",
        "print(\"combinaciones: \",m)"
      ],
      "metadata": {
        "colab": {
          "base_uri": "https://localhost:8080/"
        },
        "id": "Z_0_BA4-caFf",
        "outputId": "16baef2b-74cb-4a34-b126-8cb83de38f66"
      },
      "execution_count": null,
      "outputs": [
        {
          "output_type": "stream",
          "name": "stdout",
          "text": [
            "introduzca el valor de m: 4\n",
            "introduzco el valor de n: 4\n",
            "combinaciones:  0\n"
          ]
        }
      ]
    },
    {
      "cell_type": "markdown",
      "source": [
        "punto 3:"
      ],
      "metadata": {
        "id": "u95OlYLXcmmF"
      }
    },
    {
      "cell_type": "code",
      "source": [
        "n= int(input(\"ingrese un valor: \"))\n",
        "if n==5:\n",
        "  contador=0\n",
        "  for i in range(n):\n",
        "    m= i+1\n",
        "    n= m+1\n",
        "    contador= contador + (m*n)\n",
        "  print(contador)\n",
        "elif n==3:\n",
        "  resultado=0\n",
        "  for i in range (n):\n",
        "    resultado= resultado+(pow(2,i))\n",
        "  print(resultado)\n",
        "\n",
        "elif n==100:\n",
        "  resultado=0\n",
        "  for i in range (n):\n",
        "    resultado= resultado+(pow(2,i))\n",
        "  print(resultado)\n",
        "\n",
        "\n",
        "else:\n",
        "   print(\"numero no valido siga intentando\")"
      ],
      "metadata": {
        "colab": {
          "base_uri": "https://localhost:8080/"
        },
        "id": "TNejmQ7YcpvS",
        "outputId": "1c03a98e-4832-4f53-c077-d97096be803b"
      },
      "execution_count": null,
      "outputs": [
        {
          "output_type": "stream",
          "name": "stdout",
          "text": [
            "ingrese un valor: 45\n",
            "numero no valido siga intentando\n"
          ]
        }
      ]
    },
    {
      "cell_type": "markdown",
      "source": [
        "punto 4:"
      ],
      "metadata": {
        "id": "AGopWv9Hc_gl"
      }
    },
    {
      "cell_type": "code",
      "source": [],
      "metadata": {
        "id": "QvNHJPdE8Aw8"
      },
      "execution_count": null,
      "outputs": []
    },
    {
      "cell_type": "code",
      "source": [
        "# variables:\n",
        "sueldoTotal= 0.0\n",
        "salario= 0.0\n",
        "salarioNeto= 0.0\n",
        "impuestos= 0.0\n",
        "hombres=0\n",
        "mujeres=0\n",
        "sueldoTotalPagadoaHombres=0\n",
        "sueldoTotalPagadoaMujeres=0\n",
        "maximosueldopagadoahombre=0\n",
        "maximosueldopagadoamujeres=0\n",
        "minimosueldopagadoahombres=0\n",
        "minimosueldopagadoamujeres=0\n",
        "sueldopromediopagadoahombres=0\n",
        "totalhorastrabajadashombres=0\n",
        "totalhorastrabajadasmujeres=0\n",
        "totalhorastrabajadas=0\n",
        "HorasExtrasHombres=0\n",
        "HorasExtrasMujeres=0\n",
        "HorasExtrastotales=0\n",
        "horaExtras=0\n",
        "# Captura de datos\n",
        "nombreTrabajador=(input(\"Nombre del trabajador: \"))\n",
        "horasTrabajadas= int(input(\"Horas trabajadas: \"))\n",
        "tarifaHora= int(input(\"Tarifa horaria: \"))\n",
        "genero=int(input(\"cual es el genero del trabajador?\\n\"\"1.hombre\\n\"\"2.mujer\\n\"))\t\n",
        "\n",
        "# calculador\n",
        "if horasTrabajadas>40:\n",
        "    she=(horasTrabajadas-40)*(tarifaHora*1.8)\n",
        "    salariosemana=(40*tarifaHora)+she\n",
        "elif horasTrabajadas<=40:\n",
        "    salariosemana= horasTrabajadas*tarifaHora\n",
        "salario=salariosemana\n",
        "sueldoTotal=sueldoTotal+salario\n",
        "\n",
        "\n",
        "if genero==1:\n",
        "    sueldoTotalPagadoaHombres=sueldoTotalPagadoaHombres+salario\n",
        "    hombres=hombres+1\n",
        "elif genero==2:\n",
        "    sueldoTotalPagadoaMujeres=sueldoTotalPagadoaMujeres+salario\n",
        "    mujeres=mujeres+1\n",
        "\n",
        "if genero==1 and maximosueldopagadoahombres>salario:\n",
        "    maximosueldopagadoahombres=salario\n",
        "    \n",
        "elif genero==2 and maximosueldopagadoamujeres>salario:\n",
        "    maximosueldopagadoamujeres=salario\n",
        "\n",
        "if genero==1 and maximosueldopagadoahombres<salario:\n",
        "     minimosueldopagadoahombres=salario\n",
        "    \n",
        "elif genero==2 and maximosueldopagadoamujeres<salario:\n",
        "    minimosueldopagadoamujeres=salario\n",
        "\n",
        "if genero==1:\n",
        "    sueldopromediopagadoahombres=(sueldoTotalPagadoaHombres/hombres)\n",
        "elif genero==2:\n",
        "    sueldopromediopagadoamujeres=(sueldoTotalPagadoaMujeres/mujeres)\n",
        "\n",
        "sueldopromediopagado=(sueldoTotal/(hombres+mujeres))\n",
        "\n",
        "if genero==1:\n",
        "    totalhorastrabajadashombres=totalhorastrabajadashombres+horasTrabajadas\n",
        "elif genero==2:\n",
        "    totalhorastrabajadasmujeres=totalhorastrabajadasmujeres+horasTrabajadas\n",
        "\n",
        "totalhorastrabajadas=totalhorastrabajadas+horasTrabajadas\n",
        "\n",
        "horasExtras=(horasTrabajadas-40)\n",
        "if genero==1 and horaExtras>0:\n",
        "    HorasExtrasHombres=HorasExtrasHombres+horasExtras\n",
        "elif genero==2 and horaExtras>0:\n",
        "    HorasExtrasMujeres=HorasExtrasMujeres+horasExtras\n",
        "elif horaExtras>0:\n",
        "    HorasExtrastotales=HorasExtrastotales+horasExtras\n",
        "\n",
        "if salario<=1800000:\n",
        "    print(\"libre de impuestos\")\n",
        "elif salario >1800000 and salario<=2300000:\n",
        "    impuestosporelveinteporciento=(salario-1800000)\n",
        "    salariomenosimpuestos=(500000-(impuestosporelveinteporciento*0.20))\n",
        "    salariototalmenosimpuesto=(1800000+salariomenosimpuestos)\n",
        "    print(\"salario total menos impuesto es\",salariototalmenosimpuesto)\n",
        "elif salario >2300000:\n",
        "    salariomenosimpuestosdelveinte=(500000-(500000*0.20))\n",
        "    impuestosporeltreintaporciento=(salario-2300000)\n",
        "    salariomenosimpuestosporeltreinta=(impuestosporeltreintaporciento-(impuestosporeltreintaporciento*0.30))\n",
        "    salariototalmenosimpuesto=(1800000+salariomenosimpuestosdelveinte+salariomenosimpuestosporeltreinta)\n",
        "    print(\"salario total menos impuesto es\",salariototalmenosimpuesto)\n",
        "\n",
        "    print(\"salario total pagado por la compañia\",sueldoTotal)\n",
        "print(\"sueldo Total Pagado a Hombres es\",sueldoTotalPagadoaHombres)\n",
        "print(\"sueldo Total Pagado a Mujeres es\",sueldoTotalPagadoaMujeres)\n",
        "print(\"maximo sueldo pagado a hombre es\",maximosueldopagadoahombre)\n",
        "print(\"maximo sueldo pagado a mujeres es\",maximosueldopagadoamujeres)\n",
        "print(\"minimo sueldo pagado a hombres es\",minimosueldopagadoahombres)\n",
        "print(\"minimo sueldo pagado a mujeres es\",minimosueldopagadoamujeres)\n",
        "print(\"sueldo promedio pagado a hombres es\",sueldopromediopagadoahombres)\n",
        "print(\"sueldo promedio pagado a mujeres es\",sueldopromediopagadoamujeres)\n",
        "print(\"sueldo promedio pagado total\",sueldopromediopagado)\n",
        "print(\"total horas trabajadas hombres es\",totalhorastrabajadashombres)\n",
        "print(\"total horas trabajadas mujeres es\",totalhorastrabajadasmujeres)\n",
        "print(\"total horas trabajadas es\",totalhorastrabajadas)\n",
        "print(\"Numero de Horas Extras Hombres\",HorasExtrasHombres)\n",
        "print(\"Numero de Horas Extras Mujeres\",HorasExtrasMujeres)\n",
        "print(\"Numero de Horas Extras totales\",HorasExtrastotales)"
      ],
      "metadata": {
        "id": "_Q5o9x6qdCpZ",
        "colab": {
          "base_uri": "https://localhost:8080/"
        },
        "outputId": "b8dc51cf-d91e-4d54-819b-cedde124b807"
      },
      "execution_count": 2,
      "outputs": [
        {
          "output_type": "stream",
          "name": "stdout",
          "text": [
            "Nombre del trabajador: camila\n",
            "Horas trabajadas: 40\n",
            "Tarifa horaria: 1000\n",
            "cual es el genero del trabajador?\n",
            "1.hombre\n",
            "2.mujer\n",
            "2\n",
            "libre de impuestos\n",
            "sueldo Total Pagado a Hombres es 0\n",
            "sueldo Total Pagado a Mujeres es 40000\n",
            "maximo sueldo pagado a hombre es 0\n",
            "maximo sueldo pagado a mujeres es 0\n",
            "minimo sueldo pagado a hombres es 0\n",
            "minimo sueldo pagado a mujeres es 40000\n",
            "sueldo promedio pagado a hombres es 0\n",
            "sueldo promedio pagado a mujeres es 40000.0\n",
            "sueldo promedio pagado total 40000.0\n",
            "total horas trabajadas hombres es 0\n",
            "total horas trabajadas mujeres es 40\n",
            "total horas trabajadas es 40\n",
            "Numero de Horas Extras Hombres 0\n",
            "Numero de Horas Extras Mujeres 0\n",
            "Numero de Horas Extras totales 0\n"
          ]
        }
      ]
    },
    {
      "cell_type": "code",
      "source": [],
      "metadata": {
        "id": "W0iHhzqC8KDJ"
      },
      "execution_count": null,
      "outputs": []
    }
  ]
}