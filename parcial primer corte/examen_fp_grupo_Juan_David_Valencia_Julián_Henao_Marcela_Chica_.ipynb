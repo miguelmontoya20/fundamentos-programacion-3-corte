{
  "nbformat": 4,
  "nbformat_minor": 0,
  "metadata": {
    "colab": {
      "provenance": []
    },
    "kernelspec": {
      "name": "python3",
      "display_name": "Python 3"
    },
    "language_info": {
      "name": "python"
    }
  },
  "cells": [
    {
      "cell_type": "markdown",
      "source": [
        "Autor: Grupo 11 FP Noche\n",
        "\n",
        "Fecha: 23_09_2022\n",
        "\n",
        "Versión: 1.0"
      ],
      "metadata": {
        "id": "nhNPvgyhreyi"
      }
    },
    {
      "cell_type": "markdown",
      "source": [
        "Punto 1:\n",
        "Lea un termino e imprima y sume los números de la serie de acuerdo a la imagen hasta dicho termino. Realicelo con un ciclo for y un ciclo while."
      ],
      "metadata": {
        "id": "w7Crb4dnFUDm"
      }
    },
    {
      "cell_type": "code",
      "source": [
        "# Ciclo for\n",
        "Inicial=0\n",
        "Final=1\n",
        "n=int(input(\"Ingrese el valor de n: \"))\n",
        "for i in range(1,n):\n",
        "  total= Inicial+Final\n",
        "  Final=Inicial\n",
        "  Inicial=total\n",
        "  print(total)"
      ],
      "metadata": {
        "colab": {
          "base_uri": "https://localhost:8080/"
        },
        "id": "W-yTYxKxaOvW",
        "outputId": "79858214-48d7-4f37-d73e-20a2efa86905"
      },
      "execution_count": null,
      "outputs": [
        {
          "output_type": "stream",
          "name": "stdout",
          "text": [
            "Ingrese el valor de n: 9\n",
            "1\n",
            "1\n",
            "2\n",
            "3\n",
            "5\n",
            "8\n",
            "13\n",
            "21\n"
          ]
        }
      ]
    },
    {
      "cell_type": "code",
      "source": [
        "# Ciclo while\n",
        "n=int(input(\"Ingrese el valor de 'n': \"))\n",
        "#Los dos primeros terminos son inicio y final\n",
        "Inicio=1\n",
        "Final=0\n",
        "suma=1\n",
        "count=1\n",
        "print(\"Secuencia de Fibonacci : \")\n",
        "# El conteo no puede ser mayor que n\n",
        "while(count<=n):    \n",
        "  print(suma)\n",
        "  count+=1\n",
        "  Inicio=Final\n",
        "  Final=suma\n",
        "  suma=Inicio+Final"
      ],
      "metadata": {
        "colab": {
          "base_uri": "https://localhost:8080/"
        },
        "id": "tv7VplOzCml3",
        "outputId": "82667d74-504a-439c-8bb8-01bfbccfa1a0"
      },
      "execution_count": null,
      "outputs": [
        {
          "output_type": "stream",
          "name": "stdout",
          "text": [
            "Ingrese el valor de 'n': 8\n",
            "Secuencia de Fibonacci : \n",
            "1\n",
            "1\n",
            "2\n",
            "3\n",
            "5\n",
            "8\n",
            "13\n",
            "21\n"
          ]
        }
      ]
    },
    {
      "cell_type": "markdown",
      "source": [
        "Punto 2: Realice un programa que calcule la combinatoria de dos números. Tenga en cuenta que para calcular la combinatoria debe calcular el factorial de cada número."
      ],
      "metadata": {
        "id": "4pV3FRsftF65"
      }
    },
    {
      "cell_type": "code",
      "source": [
        "n= int(input(\"ingrese un valor: \"))\n",
        "if n==5:\n",
        "  contador=0\n",
        "  for i in range(n):\n",
        "    m= i+1\n",
        "    n= m+1\n",
        "    contador= contador + (m*n)\n",
        "  print(contador)\n",
        "elif n==3:\n",
        "  resultado=0\n",
        "  for i in range (n):\n",
        "    resultado= resultado+(pow(2,i))\n",
        "  print(resultado)\n",
        "\n",
        "elif n==100:\n",
        "  resultado=0\n",
        "  for i in range (n):\n",
        "    resultado= resultado+(pow(2,i))\n",
        "  print(resultado)\n",
        "\n",
        "\n",
        "else:\n",
        "   print(\"numero no valido siga intentando\")"
      ],
      "metadata": {
        "colab": {
          "base_uri": "https://localhost:8080/"
        },
        "id": "x96s15zdtEwI",
        "outputId": "8fb16f89-15e7-43d7-d417-0b8ea0066f57"
      },
      "execution_count": null,
      "outputs": [
        {
          "output_type": "stream",
          "name": "stdout",
          "text": [
            "ingrese un valor: 15\n",
            "numero no valido siga intentando\n"
          ]
        }
      ]
    },
    {
      "cell_type": "markdown",
      "source": [
        "Punto 3: Desarrolle un programa que calcule las siguientes sumatorias. Los números 5,3 y 100 lealos por teclado."
      ],
      "metadata": {
        "id": "OQtlT7QQt-7D"
      }
    },
    {
      "cell_type": "code",
      "source": [
        "def factorial (n):\n",
        "  vlr_factorial=1\n",
        "  contador=0\n",
        "  resultado_factorial= 0\n",
        "  while contador < n:\n",
        "   vlr_factorial= vlr_factorial*(contador+1)\n",
        "   contador= contador+1\n",
        "  return vlr_factorial\n",
        "m= int(input(\"ingrese el primer valor:\"))\n",
        "n= int(input(\"ingrese el segundo valor:\"))\n",
        "resta = m-n\n",
        "m= factorial(m)\n",
        "n= factorial\n",
        "resta= factorial(resta)\n",
        "resultado= m/(n*resta)\n",
        "print(resultado)"
      ],
      "metadata": {
        "id": "h05-FMshuicD"
      },
      "execution_count": null,
      "outputs": []
    },
    {
      "cell_type": "markdown",
      "source": [
        "Punto 4: Se desea obtener la nomina semanal-salario neto- de los empleados de una empresa cuyo trabajo se paga por horas y del modo siguiente: \n",
        "\n",
        "° Las horas inferiores o iguales a 40 horas (normales) se pagan a una tarifa determinada que se debe introducir por el teclado (el valor es por hora) al igual que el número de horas y el nombre.\n",
        "\n",
        "° Las horas superiores a 40 se pagaran como extras a un promedio de 1,8 horas normales.\n",
        "\n",
        "° Los impuestos a deducir a los trabajadores varian en función de su sueldo mensual:\n",
        "\n",
        "- Sueldo <= $1.800.000, libre de impuestos.\n",
        "\n",
        "- Los siguientes $500.000 al 20%.\n",
        "\n",
        "- El resto, al 30%."
      ],
      "metadata": {
        "id": "kCyPvk7RFY6U"
      }
    },
    {
      "cell_type": "code",
      "source": [
        "# Declaración de variables:\n",
        "sueldoTotal= 0.0\n",
        "salario= 0.0\n",
        "salarioNeto= 0.0\n",
        "impuestos= 0.0\n",
        "hombres=0\n",
        "mujeres=0\n",
        "sueldoTotalPagadoaHombres=0\n",
        "sueldoTotalPagadoaMujeres=0\n",
        "maximosueldopagadoahombre=0\n",
        "maximosueldopagadoamujeres=0\n",
        "minimosueldopagadoahombres=0\n",
        "minimosueldopagadoamujeres=0\n",
        "sueldopromediopagadoahombres=0\n",
        "totalhorastrabajadashombres=0\n",
        "totalhorastrabajadasmujeres=0\n",
        "totalhorastrabajadas=0\n",
        "HorasExtrasHombres=0\n",
        "HorasExtrasMujeres=0\n",
        "HorasExtrastotales=0\n",
        "horaExtras=0\n"
      ],
      "metadata": {
        "id": "kCR3tr_QOm4d"
      },
      "execution_count": null,
      "outputs": []
    },
    {
      "cell_type": "code",
      "source": [
        "# Captura de datos\n",
        "nombreTrabajador=(input(\"Nombre del trabajador: \"))\n",
        "horasTrabajadas= int(input(\"Horas trabajadas: \"))\n",
        "tarifaHora= int(input(\"Tarifa horaria: \"))\n",
        "genero=int(input(\"cual es el genero del trabajador?\\n\"\"1.hombre\\n\"\"2.mujer\\n\"))\t\n"
      ],
      "metadata": {
        "colab": {
          "base_uri": "https://localhost:8080/"
        },
        "id": "H_VI_tBpP4kJ",
        "outputId": "9387b918-9a30-4432-bac2-19c5be9e6c5e"
      },
      "execution_count": null,
      "outputs": [
        {
          "name": "stdout",
          "output_type": "stream",
          "text": [
            "Nombre del trabajador: Marcela\n",
            "Horas trabajadas: 48\n",
            "Tarifa horaria: 1000\n",
            "cual es el genero del trabajador?\n",
            "1.hombre\n",
            "2.mujer\n",
            "2\n"
          ]
        }
      ]
    },
    {
      "cell_type": "code",
      "source": [
        "# calculadorSHE\n",
        "if horasTrabajadas>40:\n",
        "    she=(horasTrabajadas-40)*(tarifaHora*1.8)\n",
        "    salariosemana=(40*tarifaHora)+she\n",
        "elif horasTrabajadas<=40:\n",
        "    salariosemana= horasTrabajadas*tarifaHora\n",
        "salario=salariosemana\n",
        "sueldoTotal=sueldoTotal+salario\n"
      ],
      "metadata": {
        "id": "H8G3i36-QEye"
      },
      "execution_count": null,
      "outputs": []
    },
    {
      "cell_type": "code",
      "source": [
        "#sueldo total pagado a hombre y mujeres\n",
        "if genero==1:\n",
        "    sueldoTotalPagadoaHombres=sueldoTotalPagadoaHombres+salario\n",
        "    hombres=hombres+1\n",
        "elif genero==2:\n",
        "    sueldoTotalPagadoaMujeres=sueldoTotalPagadoaMujeres+salario\n",
        "    mujeres=mujeres+1\n"
      ],
      "metadata": {
        "id": "cVuHMFMHQHAV"
      },
      "execution_count": null,
      "outputs": []
    },
    {
      "cell_type": "code",
      "source": [
        "#maximo sueldo pagado a hombre y mujeres\n",
        "if genero==1 and maximosueldopagadoahombres>salario:\n",
        "    maximosueldopagadoahombres=salario\n",
        "    \n",
        "elif genero==2 and maximosueldopagadoamujeres>salario:\n",
        "    maximosueldopagadoamujeres=salario"
      ],
      "metadata": {
        "id": "DUjioq1dQOVw"
      },
      "execution_count": null,
      "outputs": []
    },
    {
      "cell_type": "code",
      "source": [
        "#minimo sueldo pagado a hombre y mujeres\n",
        "if genero==1 and maximosueldopagadoahombres<salario:\n",
        "     minimosueldopagadoahombres=salario\n",
        "    \n",
        "elif genero==2 and maximosueldopagadoamujeres<salario:\n",
        "    minimosueldopagadoamujeres=salario"
      ],
      "metadata": {
        "id": "w-3VQlHlQVhy"
      },
      "execution_count": null,
      "outputs": []
    },
    {
      "cell_type": "code",
      "source": [
        "#sueldo promedio pagado a hombres,mujeres y total\n",
        "if genero==1:\n",
        "    sueldopromediopagadoahombres=(sueldoTotalPagadoaHombres/hombres)\n",
        "elif genero==2:\n",
        "    sueldopromediopagadoamujeres=(sueldoTotalPagadoaMujeres/mujeres)\n",
        "\n",
        "sueldopromediopagado=(sueldoTotal/(hombres+mujeres))"
      ],
      "metadata": {
        "id": "1FgFDvnRQaTT"
      },
      "execution_count": null,
      "outputs": []
    },
    {
      "cell_type": "code",
      "source": [
        "#total horas trabajadas hombres,mujeres y total\n",
        "if genero==1:\n",
        "    totalhorastrabajadashombres=totalhorastrabajadashombres+horasTrabajadas\n",
        "elif genero==2:\n",
        "    totalhorastrabajadasmujeres=totalhorastrabajadasmujeres+horasTrabajadas\n",
        "\n",
        "totalhorastrabajadas=totalhorastrabajadas+horasTrabajadas"
      ],
      "metadata": {
        "id": "0fgPV6saQjuq"
      },
      "execution_count": null,
      "outputs": []
    },
    {
      "cell_type": "code",
      "source": [
        "#numero de horas extras hombres,mujeres y totales\n",
        "horasExtras=(horasTrabajadas-40)\n",
        "if genero==1 and horaExtras>0:\n",
        "    HorasExtrasHombres=HorasExtrasHombres+horasExtras\n",
        "elif genero==2 and horaExtras>0:\n",
        "    HorasExtrasMujeres=HorasExtrasMujeres+horasExtras\n",
        "elif horaExtras>0:\n",
        "    HorasExtrastotales=HorasExtrastotales+horasExtras"
      ],
      "metadata": {
        "id": "R3biIQ0SQoJe"
      },
      "execution_count": null,
      "outputs": []
    },
    {
      "cell_type": "code",
      "source": [
        "#impuestos segun el sueldo\n",
        "if salario<=1800000:\n",
        "    print(\"libre de impuestos\")\n",
        "elif salario >1800000 and salario<=2300000:\n",
        "    impuestosporelveinteporciento=(salario-1800000)\n",
        "    salariomenosimpuestos=(500000-(impuestosporelveinteporciento*0.20))\n",
        "    salariototalmenosimpuesto=(1800000+salariomenosimpuestos)\n",
        "    print(\"salario total menos impuesto es\",salariototalmenosimpuesto)\n",
        "elif salario >2300000:\n",
        "    salariomenosimpuestosdelveinte=(500000-(500000*0.20))\n",
        "    impuestosporeltreintaporciento=(salario-2300000)\n",
        "    salariomenosimpuestosporeltreinta=(impuestosporeltreintaporciento-(impuestosporeltreintaporciento*0.30))\n",
        "    salariototalmenosimpuesto=(1800000+salariomenosimpuestosdelveinte+salariomenosimpuestosporeltreinta)\n",
        "    print(\"salario total menos impuesto es\",salariototalmenosimpuesto)"
      ],
      "metadata": {
        "colab": {
          "base_uri": "https://localhost:8080/"
        },
        "id": "t2n3fp1YQ-8d",
        "outputId": "01c10852-8734-4a74-c8dc-bef534fbed46"
      },
      "execution_count": null,
      "outputs": [
        {
          "output_type": "stream",
          "name": "stdout",
          "text": [
            "libre de impuestos\n"
          ]
        }
      ]
    },
    {
      "cell_type": "code",
      "source": [
        "# salida\n",
        "print(\"salario total pagado por la compañia\",sueldoTotal)\n",
        "print(\"sueldo Total Pagado a Hombres es\",sueldoTotalPagadoaHombres)\n",
        "print(\"sueldo Total Pagado a Mujeres es\",sueldoTotalPagadoaMujeres)\n",
        "print(\"maximo sueldo pagado a hombre es\",maximosueldopagadoahombre)\n",
        "print(\"maximo sueldo pagado a mujeres es\",maximosueldopagadoamujeres)\n",
        "print(\"minimo sueldo pagado a hombres es\",minimosueldopagadoahombres)\n",
        "print(\"minimo sueldo pagado a mujeres es\",minimosueldopagadoamujeres)\n",
        "print(\"sueldo promedio pagado a hombres es\",sueldopromediopagadoahombres)\n",
        "print(\"sueldo promedio pagado a mujeres es\",sueldopromediopagadoamujeres)\n",
        "print(\"sueldo promedio pagado total\",sueldopromediopagado)\n",
        "print(\"total horas trabajadas hombres es\",totalhorastrabajadashombres)\n",
        "print(\"total horas trabajadas mujeres es\",totalhorastrabajadasmujeres)\n",
        "print(\"total horas trabajadas es\",totalhorastrabajadas)\n",
        "print(\"Numero de Horas Extras Hombres\",HorasExtrasHombres)\n",
        "print(\"Numero de Horas Extras Mujeres\",HorasExtrasMujeres)\n",
        "print(\"Numero de Horas Extras totales\",HorasExtrastotales)"
      ],
      "metadata": {
        "colab": {
          "base_uri": "https://localhost:8080/"
        },
        "id": "cD3NhCccRI6u",
        "outputId": "6aea6d61-32da-48cd-d9be-1eaff97103c5"
      },
      "execution_count": null,
      "outputs": [
        {
          "output_type": "stream",
          "name": "stdout",
          "text": [
            "salario total pagado por la compañia 0.0\n",
            "sueldo Total Pagado a Hombres es 0\n",
            "sueldo Total Pagado a Mujeres es 0\n",
            "maximo sueldo pagado a hombre es 0\n",
            "maximo sueldo pagado a mujeres es 0\n",
            "minimo sueldo pagado a hombres es 0\n",
            "minimo sueldo pagado a mujeres es 0\n",
            "sueldo promedio pagado a hombres es 0\n",
            "sueldo promedio pagado a mujeres es 54400.0\n",
            "sueldo promedio pagado total 54400.0\n",
            "total horas trabajadas hombres es 0\n",
            "total horas trabajadas mujeres es 0\n",
            "total horas trabajadas es 0\n",
            "Numero de Horas Extras Hombres 0\n",
            "Numero de Horas Extras Mujeres 0\n",
            "Numero de Horas Extras totales 0\n"
          ]
        }
      ]
    }
  ]
}