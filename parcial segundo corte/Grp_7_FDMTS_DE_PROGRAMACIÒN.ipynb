{
  "nbformat": 4,
  "nbformat_minor": 0,
  "metadata": {
    "colab": {
      "provenance": []
    },
    "kernelspec": {
      "name": "python3",
      "display_name": "Python 3"
    },
    "language_info": {
      "name": "python"
    }
  },
  "cells": [
    {
      "cell_type": "markdown",
      "source": [
        "Autores: Miguel montoya giraldo\n",
        "         Julian david henao\n",
        "         Juan david valencia v_\n",
        "Segundo corte de fundamentos de programaciòn\n",
        "Fecha: 27/10/2022"
      ],
      "metadata": {
        "id": "plFHEbU7Sugy"
      }
    },
    {
      "cell_type": "code",
      "execution_count": null,
      "metadata": {
        "id": "vltfG56FkSIT"
      },
      "outputs": [],
      "source": [
        "#Ejercicio 8\n",
        "#Recibiendo y retornando valor\n",
        "\n",
        "def numero_fobonacci(num):\n",
        "    aux=1\n",
        "    fibo=0\n",
        "    aux_2=0\n",
        "    y=0\n",
        "    lista=[]\n",
        "    for x in range (30):\n",
        "        fibo=aux+fibo\n",
        "        aux_2=aux\n",
        "        aux=fibo\n",
        "        fibo=aux_2\n",
        "        lista.append(fibo)\n",
        "    for t in range (30):\n",
        "        if lista[t]==num:\n",
        "            aux_3=1\n",
        "            return aux_3\n",
        "    for m in range(30):\n",
        "        if lista[m]!=num:\n",
        "            aux_3=0\n",
        "            return aux_3\n",
        "num=int(input(\"Ingrese el numero= \"))\n",
        "print(\"Si el numero es 1 esta dentro de los primeros 30 numeros fobonacci si no el resultado es 0\")\n",
        "print(numero_fobonacci(num))\n",
        "\n"
      ]
    },
    {
      "cell_type": "code",
      "source": [
        "#Ejercicio 8\n",
        "#Sin recibir y retornando valor\n",
        "\n",
        "def numero_fobonacci():\n",
        "    num=int(input(\"Ingrese el numero= \"))\n",
        "    aux=1\n",
        "    fibo=0\n",
        "    aux_2=0\n",
        "    y=0\n",
        "    lista=[]\n",
        "    for x in range (30):\n",
        "        fibo=aux+fibo\n",
        "        aux_2=aux\n",
        "        aux=fibo\n",
        "        fibo=aux_2\n",
        "        lista.append(fibo)\n",
        "    for t in range (30):\n",
        "        if lista[t]==num:\n",
        "            aux_3=1\n",
        "            return aux_3\n",
        "    for m in range(30):\n",
        "        if lista[m]!=num:\n",
        "            aux_3=0\n",
        "            return aux_3\n",
        "print(\"Si el numero es 1 esta dentro de los primeros 30 numeros fobonacci si no el resultado es 0\")\n",
        "print(numero_fobonacci())\n"
      ],
      "metadata": {
        "id": "Por9nHP_lTGH"
      },
      "execution_count": null,
      "outputs": []
    },
    {
      "cell_type": "code",
      "source": [
        "#Ejercicio 8\n",
        "#Sin recibir y sin retornar valor\n",
        "def numero_fobonacci():\n",
        "    num=int(input(\"Ingrese el numero= \"))\n",
        "    aux=1\n",
        "    fibo=0\n",
        "    aux_2=0\n",
        "    y=0\n",
        "    lista=[]\n",
        "    aux_3=0\n",
        "    for x in range (30):\n",
        "        fibo=aux+fibo\n",
        "        aux_2=aux\n",
        "        aux=fibo\n",
        "        fibo=aux_2\n",
        "        lista.append(fibo)\n",
        "    for t in range (30):\n",
        "        if lista[t]==num:\n",
        "            aux_3=1\n",
        "    print(\"Si el numero es 1 esta dentro de los primeros 30 numeros fobonacci si no el resultado es 0=\", aux_3)\n",
        "numero_fobonacci()\n"
      ],
      "metadata": {
        "id": "sFTXAboFNdhA"
      },
      "execution_count": null,
      "outputs": []
    },
    {
      "cell_type": "code",
      "source": [
        "#Ejercicio 8\n",
        "#Recibiendo parametro y sin retornar valor\n",
        "\n",
        "def numero_fobonacci(num):\n",
        "    aux=1\n",
        "    fibo=0\n",
        "    aux_2=0\n",
        "    y=0\n",
        "    lista=[]\n",
        "    aux_3=0\n",
        "    for x in range (30):\n",
        "        fibo=aux+fibo\n",
        "        aux_2=aux\n",
        "        aux=fibo\n",
        "        fibo=aux_2\n",
        "        lista.append(fibo)\n",
        "    for t in range (30):\n",
        "        if lista[t]==num:\n",
        "            aux_3=1\n",
        "    print(\"Si el numero es 1 esta dentro de los primeros 30 numeros fobonacci si no el resultado es 0=\", aux_3)\n",
        "num=int(input(\"Ingrese el numero= \"))\n",
        "numero_fobonacci(num)"
      ],
      "metadata": {
        "id": "my7uhrgwNvdN"
      },
      "execution_count": null,
      "outputs": []
    },
    {
      "cell_type": "code",
      "source": [
        "#Ejercicio 28\n",
        "#Recibiendo parametro y Retornando valor\n",
        "def promedio(lista):\n",
        "    cuenta=0\n",
        "    for x in range(10):\n",
        "        if lista [x]%3 != 0 and lista[x]%2 != 0 and lista[x]%5 != 0 or lista[x] == 2 or lista[x] == 5 or lista[x] == 7 or lista[x] == 11 or lista[x] == 3:\n",
        "            cuenta=cuenta+1\n",
        "    return cuenta\n",
        "lista=[]\n",
        "for x in range (10):\n",
        "    num1=int(input(\"Ingrese los numeros =\"))\n",
        "    lista.append(num1)\n",
        "print(\"La cantidad de numeros primos es=  \",promedio(lista))"
      ],
      "metadata": {
        "id": "dz7tE_HROjgy",
        "outputId": "d8cba6f3-b166-42f5-ccab-1467e874ab77",
        "colab": {
          "base_uri": "https://localhost:8080/"
        }
      },
      "execution_count": null,
      "outputs": [
        {
          "output_type": "stream",
          "name": "stdout",
          "text": [
            "Ingrese los numeros =7\n",
            "Ingrese los numeros =9\n",
            "Ingrese los numeros =8\n",
            "Ingrese los numeros =7\n",
            "Ingrese los numeros =3\n",
            "Ingrese los numeros =4\n",
            "Ingrese los numeros =5\n",
            "Ingrese los numeros =7\n",
            "Ingrese los numeros =7\n",
            "Ingrese los numeros =7\n",
            "La cantidad de numeros primos es=   7\n"
          ]
        }
      ]
    },
    {
      "cell_type": "code",
      "source": [
        "#Ejercicio 28\n",
        "#Sin recibir parametro y sin retornar valor\n",
        "def promedio():\n",
        "    lista=[]\n",
        "    cuenta=0\n",
        "    for x in range (10):\n",
        "        num1=int(input(\"Ingrese los numeros =\"))\n",
        "        lista.append(num1)\n",
        "    for x in range(10):\n",
        "        if lista [x]%3 != 0 and lista[x]%2 != 0 and lista[x]%5 != 0 or lista[x] == 2 or lista[x] == 5 or lista[x] == 7 or lista[x] == 11 or lista[x] == 3:\n",
        "            cuenta=cuenta+1\n",
        "    print(\"La cantidad de numeros primos es=  \", cuenta)\n",
        "promedio()"
      ],
      "metadata": {
        "id": "yOpXn27APOD2"
      },
      "execution_count": null,
      "outputs": []
    },
    {
      "cell_type": "code",
      "source": [
        "#Ejercicio 28\n",
        "#Recibiendo parametro y sin retornar valor\n",
        "def promedio(lista):\n",
        "    cuenta=0\n",
        "    for x in range(10):\n",
        "        if lista [x]%3 != 0 and lista[x]%2 != 0 and lista[x]%5 != 0 or lista[x] == 2 or lista[x] == 5 or lista[x] == 7 or lista[x] == 11 or lista[x] == 3:\n",
        "            cuenta=cuenta+1\n",
        "    print(\"La cantidad de numeros primos es= \",cuenta)\n",
        "lista=[]\n",
        "for x in range (10):\n",
        "    num1=int(input(\"Ingrese los numeros =\"))\n",
        "    lista.append(num1)\n",
        "promedio(lista)\n"
      ],
      "metadata": {
        "id": "W4HwaSKdP8GJ"
      },
      "execution_count": null,
      "outputs": []
    },
    {
      "cell_type": "code",
      "source": [
        "#Ejercicio 28\n",
        "#Sin recibir parametro y retornando valor \n",
        "\n",
        "def promedio():\n",
        "    lista=[]\n",
        "    cuenta=0\n",
        "    for x in range (10):\n",
        "        num1=int(input(\"Ingrese los numeros =\"))\n",
        "        lista.append(num1)\n",
        "    for x in range(10):\n",
        "        if lista [x]%3 != 0 and lista[x]%2 != 0 and lista[x]%5 != 0 or lista[x] == 2 or lista[x] == 5 or lista[x] == 7 or lista[x] == 11 or lista[x] == 3:\n",
        "            cuenta=cuenta+1\n",
        "    var1=print(\"La cantidad de numeros primos es=  \", cuenta)\n",
        "    return var1\n",
        "promedio()"
      ],
      "metadata": {
        "colab": {
          "base_uri": "https://localhost:8080/"
        },
        "id": "nBuOVZkZQWyR",
        "outputId": "dbc94aa9-c6ec-4c78-c865-12d8ac62248a"
      },
      "execution_count": null,
      "outputs": [
        {
          "output_type": "stream",
          "name": "stdout",
          "text": [
            "Ingrese los numeros =7\n",
            "Ingrese los numeros =7\n",
            "Ingrese los numeros =7\n",
            "Ingrese los numeros =7\n",
            "Ingrese los numeros =7\n",
            "Ingrese los numeros =7\n",
            "Ingrese los numeros =7\n",
            "Ingrese los numeros =7\n",
            "Ingrese los numeros =7\n",
            "Ingrese los numeros =7\n",
            "La cantidad de numeros primos es=   10\n"
          ]
        }
      ]
    },
    {
      "cell_type": "code",
      "source": [
        "#Ejercicio 18\n",
        "\n",
        "def factorial (n):\n",
        "  vlr_factorial=1\n",
        "  contador=0\n",
        "  resultado_factorial= 0\n",
        "  while contador < n:\n",
        "   vlr_factorial= vlr_factorial*(contador+1)\n",
        "   contador= contador+1\n",
        "  return vlr_factorial\n",
        "m= int(input(\"ingrese el primer valor:\"))\n",
        "n= int(input(\"ingrese el segundo valor:\"))\n",
        "resta = m-n\n",
        "m= factorial(m)\n",
        "n= factorial\n",
        "resta= factorial(resta)\n",
        "resultado= m/(n*resta)\n",
        "print(resultado)"
      ],
      "metadata": {
        "colab": {
          "base_uri": "https://localhost:8080/",
          "height": 382
        },
        "id": "PSR8oRyPT_jT",
        "outputId": "b65d5b5a-3bd3-43de-c98f-afb422f9705a"
      },
      "execution_count": null,
      "outputs": [
        {
          "output_type": "error",
          "ename": "KeyboardInterrupt",
          "evalue": "ignored",
          "traceback": [
            "\u001b[0;31m---------------------------------------------------------------------------\u001b[0m",
            "\u001b[0;31mKeyboardInterrupt\u001b[0m                         Traceback (most recent call last)",
            "\u001b[0;32m<ipython-input-33-a920f4a98cd5>\u001b[0m in \u001b[0;36m<module>\u001b[0;34m\u001b[0m\n\u001b[1;32m      9\u001b[0m    \u001b[0mcontador\u001b[0m\u001b[0;34m=\u001b[0m \u001b[0mcontador\u001b[0m\u001b[0;34m+\u001b[0m\u001b[0;36m1\u001b[0m\u001b[0;34m\u001b[0m\u001b[0;34m\u001b[0m\u001b[0m\n\u001b[1;32m     10\u001b[0m   \u001b[0;32mreturn\u001b[0m \u001b[0mvlr_factorial\u001b[0m\u001b[0;34m\u001b[0m\u001b[0;34m\u001b[0m\u001b[0m\n\u001b[0;32m---> 11\u001b[0;31m \u001b[0mm\u001b[0m\u001b[0;34m=\u001b[0m \u001b[0mint\u001b[0m\u001b[0;34m(\u001b[0m\u001b[0minput\u001b[0m\u001b[0;34m(\u001b[0m\u001b[0;34m\"ingrese el primer valor:\"\u001b[0m\u001b[0;34m)\u001b[0m\u001b[0;34m)\u001b[0m\u001b[0;34m\u001b[0m\u001b[0;34m\u001b[0m\u001b[0m\n\u001b[0m\u001b[1;32m     12\u001b[0m \u001b[0mn\u001b[0m\u001b[0;34m=\u001b[0m \u001b[0mint\u001b[0m\u001b[0;34m(\u001b[0m\u001b[0minput\u001b[0m\u001b[0;34m(\u001b[0m\u001b[0;34m\"ingrese el segundo valor:\"\u001b[0m\u001b[0;34m)\u001b[0m\u001b[0;34m)\u001b[0m\u001b[0;34m\u001b[0m\u001b[0;34m\u001b[0m\u001b[0m\n\u001b[1;32m     13\u001b[0m \u001b[0mresta\u001b[0m \u001b[0;34m=\u001b[0m \u001b[0mm\u001b[0m\u001b[0;34m-\u001b[0m\u001b[0mn\u001b[0m\u001b[0;34m\u001b[0m\u001b[0;34m\u001b[0m\u001b[0m\n",
            "\u001b[0;32m/usr/local/lib/python3.7/dist-packages/ipykernel/kernelbase.py\u001b[0m in \u001b[0;36mraw_input\u001b[0;34m(self, prompt)\u001b[0m\n\u001b[1;32m    861\u001b[0m             \u001b[0mself\u001b[0m\u001b[0;34m.\u001b[0m\u001b[0m_parent_ident\u001b[0m\u001b[0;34m,\u001b[0m\u001b[0;34m\u001b[0m\u001b[0;34m\u001b[0m\u001b[0m\n\u001b[1;32m    862\u001b[0m             \u001b[0mself\u001b[0m\u001b[0;34m.\u001b[0m\u001b[0m_parent_header\u001b[0m\u001b[0;34m,\u001b[0m\u001b[0;34m\u001b[0m\u001b[0;34m\u001b[0m\u001b[0m\n\u001b[0;32m--> 863\u001b[0;31m             \u001b[0mpassword\u001b[0m\u001b[0;34m=\u001b[0m\u001b[0;32mFalse\u001b[0m\u001b[0;34m,\u001b[0m\u001b[0;34m\u001b[0m\u001b[0;34m\u001b[0m\u001b[0m\n\u001b[0m\u001b[1;32m    864\u001b[0m         )\n\u001b[1;32m    865\u001b[0m \u001b[0;34m\u001b[0m\u001b[0m\n",
            "\u001b[0;32m/usr/local/lib/python3.7/dist-packages/ipykernel/kernelbase.py\u001b[0m in \u001b[0;36m_input_request\u001b[0;34m(self, prompt, ident, parent, password)\u001b[0m\n\u001b[1;32m    902\u001b[0m             \u001b[0;32mexcept\u001b[0m \u001b[0mKeyboardInterrupt\u001b[0m\u001b[0;34m:\u001b[0m\u001b[0;34m\u001b[0m\u001b[0;34m\u001b[0m\u001b[0m\n\u001b[1;32m    903\u001b[0m                 \u001b[0;31m# re-raise KeyboardInterrupt, to truncate traceback\u001b[0m\u001b[0;34m\u001b[0m\u001b[0;34m\u001b[0m\u001b[0;34m\u001b[0m\u001b[0m\n\u001b[0;32m--> 904\u001b[0;31m                 \u001b[0;32mraise\u001b[0m \u001b[0mKeyboardInterrupt\u001b[0m\u001b[0;34m(\u001b[0m\u001b[0;34m\"Interrupted by user\"\u001b[0m\u001b[0;34m)\u001b[0m \u001b[0;32mfrom\u001b[0m \u001b[0;32mNone\u001b[0m\u001b[0;34m\u001b[0m\u001b[0;34m\u001b[0m\u001b[0m\n\u001b[0m\u001b[1;32m    905\u001b[0m             \u001b[0;32mexcept\u001b[0m \u001b[0mException\u001b[0m \u001b[0;32mas\u001b[0m \u001b[0me\u001b[0m\u001b[0;34m:\u001b[0m\u001b[0;34m\u001b[0m\u001b[0;34m\u001b[0m\u001b[0m\n\u001b[1;32m    906\u001b[0m                 \u001b[0mself\u001b[0m\u001b[0;34m.\u001b[0m\u001b[0mlog\u001b[0m\u001b[0;34m.\u001b[0m\u001b[0mwarning\u001b[0m\u001b[0;34m(\u001b[0m\u001b[0;34m\"Invalid Message:\"\u001b[0m\u001b[0;34m,\u001b[0m \u001b[0mexc_info\u001b[0m\u001b[0;34m=\u001b[0m\u001b[0;32mTrue\u001b[0m\u001b[0;34m)\u001b[0m\u001b[0;34m\u001b[0m\u001b[0;34m\u001b[0m\u001b[0m\n",
            "\u001b[0;31mKeyboardInterrupt\u001b[0m: Interrupted by user"
          ]
        }
      ]
    },
    {
      "cell_type": "code",
      "source": [
        "numero = int(input(\"ingrese un numero\"))\n",
        "\n",
        "factorial = 1\n",
        "for n in range(1,(numero + 1)):\n",
        "  factorial = factorial * n\n",
        "\n",
        "print(\"El factorial de {0} es: {1}\".format(numero, factorial))"
      ],
      "metadata": {
        "colab": {
          "base_uri": "https://localhost:8080/"
        },
        "id": "5kYlTvCDVd49",
        "outputId": "f93b8c89-7f0f-43be-aeba-9769662f4d31"
      },
      "execution_count": null,
      "outputs": [
        {
          "output_type": "stream",
          "name": "stdout",
          "text": [
            "ingrese un numero7\n",
            "El factorial de 7 es: 5040\n"
          ]
        }
      ]
    },
    {
      "cell_type": "code",
      "source": [
        "\n",
        "\n",
        "def islastfirstsame(number:int):\n",
        "  if last==first:\n",
        "   return(1)\n",
        "  else:\n",
        "   return(1)\n",
        "factorial = 1\n",
        "for n in range(1,(numero + 1)):\n",
        "  factorial = factorial * n\n",
        "\n",
        "print(\"El factorial de {0} es: {1}\".format(numero, factorial))"
      ],
      "metadata": {
        "id": "fjkHBvPhaJqQ"
      },
      "execution_count": null,
      "outputs": []
    }
  ]
}