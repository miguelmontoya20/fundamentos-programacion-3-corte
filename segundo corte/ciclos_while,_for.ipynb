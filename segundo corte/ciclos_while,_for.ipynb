{
  "nbformat": 4,
  "nbformat_minor": 0,
  "metadata": {
    "colab": {
      "provenance": [],
      "collapsed_sections": []
    },
    "kernelspec": {
      "name": "python3",
      "display_name": "Python 3"
    },
    "language_info": {
      "name": "python"
    }
  },
  "cells": [
    {
      "cell_type": "code",
      "execution_count": null,
      "metadata": {
        "id": "_B23ms56XDmd"
      },
      "outputs": [],
      "source": [
        "n=int(input(\"Enter the value of 'n': \"))\n",
        "#first two terms are first and second\n",
        "first=0\n",
        "second=1\n",
        "sum=0\n",
        "count=1\n",
        "print(\"Fibonacci Sequence: \")\n",
        "# Count should not be more then n.\n",
        "while(count<=n):    \n",
        "  print(sum)\n",
        "  count+=1\n",
        "  first=second\n",
        "  second=sum\n",
        "  sum=first+second\t"
      ]
    },
    {
      "cell_type": "code",
      "source": [],
      "metadata": {
        "id": "qaRxD8bpqCfO"
      },
      "execution_count": null,
      "outputs": []
    },
    {
      "cell_type": "code",
      "source": [
        "n= int(input(\"ingrese un valor: \"))\n",
        "if n==5:\n",
        "  contador=0\n",
        "  for i in range(n):\n",
        "    m= i+1\n",
        "    n= m+1\n",
        "    contador= contador + (m*n)\n",
        "  print(contador)\n",
        "elif n==3:\n",
        "  resultado=0\n",
        "  for i in range (n):\n",
        "    resultado= resultado+(pow(2,i))\n",
        "  print(resultado)\n",
        "\n",
        "elif n==100:\n",
        "  resultado=0\n",
        "  for i in range (n):\n",
        "    resultado= resultado+(pow(2,i))\n",
        "  print(resultado)\n",
        "\n",
        "\n",
        "else:\n",
        "   print(\"numero no valido siga intentando\")\n",
        "\n",
        "\n"
      ],
      "metadata": {
        "id": "13bM5eh8kpnS"
      },
      "execution_count": null,
      "outputs": []
    }
  ]
}