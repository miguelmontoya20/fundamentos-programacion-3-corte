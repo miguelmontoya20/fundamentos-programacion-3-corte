{
  "nbformat": 4,
  "nbformat_minor": 0,
  "metadata": {
    "colab": {
      "provenance": []
    },
    "kernelspec": {
      "name": "python3",
      "display_name": "Python 3"
    },
    "language_info": {
      "name": "python"
    }
  },
  "cells": [
    {
      "cell_type": "code",
      "execution_count": null,
      "metadata": {
        "colab": {
          "base_uri": "https://localhost:8080/"
        },
        "id": "fjjY-UBvcycS",
        "outputId": "30e58626-d01e-4e52-eb91-983e95fd27dd"
      },
      "outputs": [
        {
          "output_type": "stream",
          "name": "stdout",
          "text": [
            "Digite Numero : 1002653510\n",
            "el ultimo Digito es :  0\n"
          ]
        }
      ],
      "source": [
        "# dearoolo de la funcion \n",
        "\n",
        "def Ult_Dig(Num):\n",
        "  UltDig = 0\n",
        "  UltDig = Num%10\n",
        "  return(UltDig)\n",
        "\n",
        "# llamado de la funcion \n",
        "\n",
        "valor = int(input(\"Digite Numero : \"))\n",
        "print(\"el ultimo Digito es : \",Ult_Dig(valor))"
      ]
    },
    {
      "cell_type": "code",
      "source": [
        "# dearoolo de la funcion \n",
        "\n",
        "def Ult_Dig(Num):\n",
        "  UltDig = 0\n",
        "  UltDig = Num%100\n",
        "  return(UltDig)\n",
        "\n",
        "# llamado de la funcion \n",
        "\n",
        "valor = int(input(\"Digite Numero : \"))\n",
        "print(\"el ultimo Digito es : \",Ult_Dig(valor))"
      ],
      "metadata": {
        "colab": {
          "base_uri": "https://localhost:8080/"
        },
        "id": "0XZJJ4AVkOvw",
        "outputId": "81c53e7b-dbb0-4e31-9c8a-c2e6a2837d18"
      },
      "execution_count": null,
      "outputs": [
        {
          "output_type": "stream",
          "name": "stdout",
          "text": [
            "Digite Numero : 1002653510\n",
            "el ultimo Digito es :  10\n"
          ]
        }
      ]
    },
    {
      "cell_type": "code",
      "source": [
        "def countDigit(n):\n",
        "    count = 0\n",
        "    while n != 0:\n",
        "      n //= 10\n",
        "      count += 1\n",
        "    return count\n",
        "\n",
        "\n",
        "#Drive code\n",
        "n = int(input(\"Digite numero: \"))\n",
        "print(\"Number of digits : % d\" % (countDigit(n)))\n",
        "\n",
        "# this code is contributed by shreyanshi Arun \n",
        "\n"
      ],
      "metadata": {
        "colab": {
          "base_uri": "https://localhost:8080/"
        },
        "id": "Yor9dmdtkkgb",
        "outputId": "be7d6406-b5d6-4c6a-c1e6-dea0bb5dc403"
      },
      "execution_count": null,
      "outputs": [
        {
          "output_type": "stream",
          "name": "stdout",
          "text": [
            "Digite numero: 1002653510\n",
            "Number of digits :  10\n"
          ]
        }
      ]
    },
    {
      "cell_type": "code",
      "source": [
        "    >>> freecodecamp = \"freeCodeCamp\"\n",
        "\n",
        "# Valores por defecto para inicio y paso\n",
        ">>> freecodecamp[:8]\n",
        "'freeCode'\n",
        "\n",
        "# Valores por defecto para fin y paso\n",
        ">>> freecodecamp[4:]\n",
        "'CodeCamp'\n",
        "\n",
        "# Valor por defecto para inicio\n",
        ">>> freecodecamp[:8:2]\n",
        "'feCd'\n",
        "\n",
        "# Valor por defecto para fin\n",
        ">>> freecodecamp[4::3]\n",
        "'Cem'\n",
        "\n",
        "# Valores por defecto para inicio y fin\n",
        ">>> freecodecamp[::-2]\n",
        "'paeoer'\n",
        "\n",
        "# Valores por defecto para inicio y fin\n",
        ">>> freecodecamp[::-1]\n",
        "'pmaCedoCeerf'"
      ],
      "metadata": {
        "colab": {
          "base_uri": "https://localhost:8080/",
          "height": 36
        },
        "id": "VlcSi_DkpAsX",
        "outputId": "8c507bd7-1a1e-4301-898f-79f8093970bf"
      },
      "execution_count": null,
      "outputs": [
        {
          "output_type": "execute_result",
          "data": {
            "text/plain": [
              "'pmaCedoCeerf'"
            ],
            "application/vnd.google.colaboratory.intrinsic+json": {
              "type": "string"
            }
          },
          "metadata": {},
          "execution_count": 41
        }
      ]
    },
    {
      "cell_type": "code",
      "source": [
        "def countDigit(n):\n",
        "    count = 0\n",
        "    while n != 0:\n",
        "      n //= 10\n",
        "      count += 1\n",
        "    return count\n",
        "\n",
        "\n",
        "#Drive code\n",
        "n = int(input(\"Digite numero: \"))\n",
        "print(\"Number of digits : % d\" % (countDigit(n)))\n",
        "\n",
        "# this code is contributed by shreyanshi Arun "
      ],
      "metadata": {
        "id": "F2IcL7fUoR_8"
      },
      "execution_count": null,
      "outputs": []
    },
    {
      "cell_type": "code",
      "source": [
        "mensaje9 = \"Hola Mundo\"\n",
        "print(mensaje9[:5].find(\"d\"))"
      ],
      "metadata": {
        "colab": {
          "base_uri": "https://localhost:8080/"
        },
        "id": "6GhKWYoN0iBX",
        "outputId": "4f4cbe6b-6cf4-4b51-f4c1-6a8ab636ae82"
      },
      "execution_count": null,
      "outputs": [
        {
          "output_type": "stream",
          "name": "stdout",
          "text": [
            "-1\n"
          ]
        }
      ]
    },
    {
      "cell_type": "code",
      "source": [
        "mensaje9 = \"Hola Mundo\"\n",
        "startLoc = 2\n",
        "endLoc = 8\n",
        "mensaje9b = mensaje9[startLoc: endLoc]\n",
        "print(mensaje9b)\n",
        " "
      ],
      "metadata": {
        "colab": {
          "base_uri": "https://localhost:8080/"
        },
        "id": "5YH80U1Jzr7M",
        "outputId": "ed1ee84e-3eea-406b-fc18-49578b434f6f"
      },
      "execution_count": null,
      "outputs": [
        {
          "output_type": "stream",
          "name": "stdout",
          "text": [
            "la Mun\n"
          ]
        }
      ]
    },
    {
      "cell_type": "code",
      "source": [
        "mensaje2a = 'Hola ' * 3\n",
        "mensaje2b = 'Mundo'\n",
        "print(mensaje2a + mensaje2b)\n"
      ],
      "metadata": {
        "colab": {
          "base_uri": "https://localhost:8080/"
        },
        "id": "PLWfAq19Mh3B",
        "outputId": "f7a620b4-d5ae-4671-a9e6-587f59653457"
      },
      "execution_count": null,
      "outputs": [
        {
          "output_type": "stream",
          "name": "stdout",
          "text": [
            "Hola Hola Hola Mundo\n"
          ]
        }
      ]
    },
    {
      "cell_type": "code",
      "source": [
        "mensaje5 = \"Hola Mundo\"\n",
        "mensaje5a = mensaje5.find(\"Mundo\")\n",
        "print(mensaje5a)"
      ],
      "metadata": {
        "colab": {
          "base_uri": "https://localhost:8080/"
        },
        "id": "Xwn6BS1PN00c",
        "outputId": "29bc8860-a9c0-42fb-d4d7-07314b88992a"
      },
      "execution_count": null,
      "outputs": [
        {
          "output_type": "stream",
          "name": "stdout",
          "text": [
            "5\n"
          ]
        }
      ]
    }
  ]
}