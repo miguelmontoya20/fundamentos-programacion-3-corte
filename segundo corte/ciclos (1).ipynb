{
  "nbformat": 4,
  "nbformat_minor": 0,
  "metadata": {
    "colab": {
      "provenance": []
    },
    "kernelspec": {
      "name": "python3",
      "display_name": "Python 3"
    },
    "language_info": {
      "name": "python"
    }
  },
  "cells": [
    {
      "cell_type": "code",
      "execution_count": null,
      "metadata": {
        "colab": {
          "base_uri": "https://localhost:8080/"
        },
        "id": "nRbhX6rYaD9C",
        "outputId": "bd51bcec-08fe-4f93-f653-d178a597db88"
      },
      "outputs": [
        {
          "output_type": "stream",
          "name": "stdout",
          "text": [
            "inicio : 5\n",
            "fin : 10\n",
            "incremento : 4\n",
            "5\n",
            "9\n"
          ]
        }
      ],
      "source": [
        "5#ciclo 8\n",
        "#ciclo para 6\n",
        "inicio= int(input(\"inicio : \"))\n",
        "fin= int(input(\"fin : \"))\n",
        "incremento = int(input(\"incremento : \"))\n",
        "for x in range(inicio,fin,incremento):\n",
        "  print(x)"
      ]
    },
    {
      "cell_type": "code",
      "source": [
        "#tabla de multiplicar de un numero\n",
        "mult=0\n",
        "tabla = int(input(\"que tabla desea  : \"))\n",
        "for x in range(10):\n",
        "  mult= tabla * x\n",
        "  print(str(tabla)+\" x \"+str(mult)+\" = \"+str(mult))\n",
        "\n"
      ],
      "metadata": {
        "colab": {
          "base_uri": "https://localhost:8080/"
        },
        "id": "4s8E3fN-nrWr",
        "outputId": "7bc4f881-9e8e-4e5a-de80-9738b2fe3464"
      },
      "execution_count": null,
      "outputs": [
        {
          "output_type": "stream",
          "name": "stdout",
          "text": [
            "que tabla desea  : 5\n",
            "5 x 0 = 0\n",
            "5 x 5 = 5\n",
            "5 x 10 = 10\n",
            "5 x 15 = 15\n",
            "5 x 20 = 20\n",
            "5 x 25 = 25\n",
            "5 x 30 = 30\n",
            "5 x 35 = 35\n",
            "5 x 40 = 40\n",
            "5 x 45 = 45\n"
          ]
        }
      ]
    },
    {
      "cell_type": "code",
      "source": [],
      "metadata": {
        "id": "gQrHddiWhZ3e"
      },
      "execution_count": null,
      "outputs": []
    }
  ]
}