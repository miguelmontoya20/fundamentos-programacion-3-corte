{
  "nbformat": 4,
  "nbformat_minor": 0,
  "metadata": {
    "colab": {
      "provenance": [],
      "collapsed_sections": []
    },
    "kernelspec": {
      "name": "python3",
      "display_name": "Python 3"
    },
    "language_info": {
      "name": "python"
    }
  },
  "cells": [
    {
      "cell_type": "code",
      "execution_count": null,
      "metadata": {
        "colab": {
          "base_uri": "https://localhost:8080/"
        },
        "id": "OJxo3912YBSW",
        "outputId": "b4398bed-b9f4-4e6e-f563-2c5c17ccb827"
      },
      "outputs": [
        {
          "output_type": "stream",
          "name": "stdout",
          "text": [
            "por favor ingrese el numero de termino a imprimir: 4\n",
            "1\n",
            "2\n",
            "3\n",
            "5\n"
          ]
        }
      ],
      "source": [
        "anterior = (0)\n",
        "posterior = (1)\n",
        "termino = int(input(\"por favor ingrese el numero de termino a imprimir: \"))\n",
        "\n",
        "\n",
        "\n",
        "for x in range(0,termino):\n",
        "  valor = anterior+posterior\n",
        "  anterior = posterior\n",
        "  posterior = valor\n",
        "  print(valor)"
      ]
    }
  ]
}