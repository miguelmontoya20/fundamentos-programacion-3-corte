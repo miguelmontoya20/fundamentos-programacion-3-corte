{
  "nbformat": 4,
  "nbformat_minor": 0,
  "metadata": {
    "colab": {
      "provenance": []
    },
    "kernelspec": {
      "name": "python3",
      "display_name": "Python 3"
    },
    "language_info": {
      "name": "python"
    }
  },
  "cells": [
    {
      "cell_type": "markdown",
      "source": [
        "TRABAJO : MIGUEL ANGEL MONTOYA, JULIAN HENAO, JUAN DAVID VALENCIA\n"
      ],
      "metadata": {
        "id": "ehxshGDT-THS"
      }
    },
    {
      "cell_type": "markdown",
      "source": [
        "ejercicio 12:Desarrolla una clase Cancion con los siguientes atributos:\n",
        "\u0001 titulo: una variable String que guarda el título de la canción.\n",
        "\u0001 autor: una variable String que guarda el autor de la canción.\n",
        "y los siguientes métodos:\n",
        "\u0001 Cancion(String, String): constructor que recibe como parámetros el título y el\n",
        "autor de la canción (por este orden).\n",
        "\u0001 Cancion(): constructor predeterminado que inicializa el título y el autor a cadenas\n",
        "vacías.\n",
        "\u0001 dameTitulo(): devuelve el título de la canción.\n",
        "\u0001 dameAutor(): devuelve el autor de la canción.\n",
        "\u0001 ponTitulo(String): establece el título de la canción.\n",
        "\u0001 ponAutor(String): establece el autor de la canción."
      ],
      "metadata": {
        "id": "bFDg45QmyzTq"
      }
    },
    {
      "cell_type": "code",
      "execution_count": 18,
      "metadata": {
        "colab": {
          "base_uri": "https://localhost:8080/"
        },
        "id": "ISkvupeJMm_1",
        "outputId": "99321994-d64a-4d9b-d4bd-7b9e502a2d52"
      },
      "outputs": [
        {
          "output_type": "stream",
          "name": "stdout",
          "text": [
            "Titulo : amiga\n",
            "Autor : maelo ruiz\n",
            "El titulo de la canción es amiga y el autor es maelo ruiz \n"
          ]
        }
      ],
      "source": [
        "class Cancion():\n",
        "  def __init__(self, p_titulo, p_autor):\n",
        "    self.titulo = p_titulo\n",
        "    self.autor = p_autor\n",
        "\n",
        "    #Metodos\n",
        "\n",
        "    def dameTitulo (self):\n",
        "      titulo = self.p_titulo\n",
        "      return titulo\n",
        "\n",
        "    def dameAutor (self):\n",
        "      autor = self.p_autor\n",
        "      return autor\n",
        "\n",
        "    def ponTitulo ():\n",
        "      return p_titulo\n",
        "    \n",
        "    def ponAutor ():\n",
        "      return p_autor\n",
        "\n",
        "\n",
        "    def MostrarCancion(self):\n",
        "      print(\"\\ntitulo: \"+self.p_titulo()+\"\\nautor: \"+self.p_autor())\n",
        "\n",
        "p_titulo = (input(\"Titulo : \"))\n",
        "p_autor = (input(\"Autor : \"))\n",
        "\n",
        "tema = Cancion(p_titulo, p_autor)\n",
        "print(\"El titulo de la canción es {} y el autor es {} \".format(tema.titulo,tema.autor))"
      ]
    },
    {
      "cell_type": "code",
      "source": [],
      "metadata": {
        "id": "tRaP25FjxYM8"
      },
      "execution_count": null,
      "outputs": []
    },
    {
      "cell_type": "markdown",
      "source": [
        "ejercicio 2:"
      ],
      "metadata": {
        "id": "FumhwEaky-P5"
      }
    },
    {
      "cell_type": "code",
      "source": [
        "#metodo constructor\n",
        "\n",
        "def _init_(self,num1,num2,num3,num4):\n",
        "  self.num1=num1\n",
        "  self.num2=num2\n",
        "  self.num3=num3\n",
        "  self.num4=num4\n",
        "   \n",
        "    \n",
        "    #Metodos\n",
        "def suma(self):\n",
        "   if self.num3 == self.num4:\n",
        "        resn = self.num3\n",
        "        total=self.num1+self.num2\n",
        "\n",
        "   else:\n",
        "        total = (((self.num3 * self.num4)/self.num3)*self.num1)+(((self.num3 * self.num4)/self.num4)*self.num2)\n",
        "        resn= self.num3*self.num4\n",
        "   print(\"El resultado de la suma de  fracciones es\",total,\"/\",resn)\n",
        "   \n",
        "\n",
        "def resta(self):\n",
        "   if self.num3 == self.num4:\n",
        "        resn = self.num3\n",
        "        total=self.num1-self.num2\n",
        "   else:\n",
        "        total = (((self.num3 * self.num4)/self.num3)*self.num1)-(((self.num3 * self.num4)/self.num4)*self.num2)\n",
        "        resn= self.num3*self.num4\n",
        "   print(\"El resultado de la resta de fracciones es\",total,\"/\",resn)\n",
        "\n",
        "def multi(self):\n",
        "   total=self.num1*self.num2\n",
        "   resn=self.num3*self.num4\n",
        "   print(\"El resultado de la multiplicación de fracciones es\",total,\"/\",resn)\n",
        "\n",
        "def div(self):\n",
        "   total=self.num1*self.num4\n",
        "   resn=self.num2*self.num3\n",
        "   print(\"El resultado de la división de fracciones es\",total,\"/\",resn)\n",
        "\n",
        "\n",
        "#Bloque Principal\n",
        "num1=int (input(\"Ingrese el primer numerador: \"))\n",
        "num3=int (input(\"Ingrese el primer denominador \"))\n",
        "num2=int (input(\"Ingrese el segundo numerador \"))\n",
        "num4=int (input(\"Ingrese el segundo denominador \"))\n",
        "    \n",
        "opcion=0 \n",
        "resn =0\n",
        "resd = 0\n",
        "total=0\n",
        "frac = racional(num1,num2,num3,num4)\n",
        "\n",
        "\n",
        "while opcion <=4:\n",
        "  print(\"1. Suma\")\n",
        "  print(\"2. Resta\")\n",
        "  print(\"3. Multiplicación\")\n",
        "  print(\"4. División\")\n",
        "  print(\"5. Salir\")\n",
        "  opcion= int (input(\"Ingrese el numero de la opcion que desee \"))\n",
        "  if opcion==1:\n",
        "    frac.suma()\n",
        "    frac=racional(num1,num2,num3,num4)     \n",
        "  if opcion==2:\n",
        "    frac.resta()\n",
        "    frac=racional(num1,num2,num3,num4) \n",
        "  if opcion==3:\n",
        "    frac.multi()\n",
        "    frac=racional(num1,num2,num3,num4) \n",
        "  if opcion==4:\n",
        "    frac.div()\n",
        "    frac=racional(num1,num2,num3,num4) \n",
        "  else:\n",
        "    print (\"La opción no es correcta\")"
      ],
      "metadata": {
        "id": "0GR3OMcLzgyx"
      },
      "execution_count": null,
      "outputs": []
    },
    {
      "cell_type": "code",
      "source": [
        "#1\n",
        "class NumeroComplejo:\n",
        "  # Definimos el constructor\n",
        "  def __init__(self, _x, _y):\n",
        " \n",
        "    self.x = _x\n",
        "    self.y = _y\n",
        "\n",
        "  def imprimir(self):\n",
        "    print(\"El valor de x es: \" + str(self.x))\n",
        "    print(\"El valor de y es: \" + str(self.y))\n",
        "\n",
        "  def __str__(self):\n",
        "    return \"(\" + str(self.x) + \", \" + str(self.y) + \")\"\n",
        "\n",
        "  def son_iguales(self, c2):\n",
        "    if self.x == c2.x and self.y == c2.y:\n",
        "      return True\n",
        "    return False\n",
        "\n",
        "  def sumar_complejos(self, c2):\n",
        "    a = self.x + c2.x\n",
        "    b = self.y + c2.y\n",
        "    return NumeroComplejo(a, b)\n",
        "\n",
        "  def restar_complejos(self, c2):\n",
        "    a = self.x - c2.x\n",
        "    b = self.y - c2.y\n",
        "    return NumeroComplejo(a, b)\n",
        "\n",
        "  def multiplicar_complejos(self, c2):\n",
        "    a = self.x * c2.x\n",
        "    b = self.y * c2.y\n",
        "    return NumeroComplejo(a, b)\n",
        "\n",
        "  def dividir_complejos(self, c2):\n",
        "    a = self.x / c2.x\n",
        "    b = self.y / c2.y\n",
        "    return NumeroComplejo(a, b)\n",
        "\n",
        "nc1 = NumeroComplejo(4, 4)\n",
        "nc2 = NumeroComplejo(3, 6)\n",
        "r = nc1.sumar_complejos(nc2)\n",
        "r2 = nc1.restar_complejos(nc2)\n",
        "r3 = nc1.multiplicar_complejos(nc2)\n",
        "r4 = nc1.dividir_complejos(nc2)\n",
        "\n",
        "print(r)\n",
        "print(r2)\n",
        "print(r3)\n",
        "print(r4)\n"
      ],
      "metadata": {
        "colab": {
          "base_uri": "https://localhost:8080/"
        },
        "id": "u5-jBAOt5Vnx",
        "outputId": "93e70169-1b36-4091-e6e8-5dfb69e7ee7c"
      },
      "execution_count": 15,
      "outputs": [
        {
          "output_type": "stream",
          "name": "stdout",
          "text": [
            "(7, 10)\n",
            "(1, -2)\n",
            "(12, 24)\n",
            "(1.3333333333333333, 0.6666666666666666)\n"
          ]
        }
      ]
    }
  ]
}