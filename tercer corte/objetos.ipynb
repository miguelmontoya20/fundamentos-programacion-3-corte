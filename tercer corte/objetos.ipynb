{
  "nbformat": 4,
  "nbformat_minor": 0,
  "metadata": {
    "colab": {
      "provenance": []
    },
    "kernelspec": {
      "name": "python3",
      "display_name": "Python 3"
    },
    "language_info": {
      "name": "python"
    }
  },
  "cells": [
    {
      "cell_type": "code",
      "execution_count": null,
      "metadata": {
        "id": "qkzf83ytxpJY"
      },
      "outputs": [],
      "source": [
        "class Coche():\n",
        "## ATRIBUTOS\n",
        "   ruedas=4\n",
        "   cilindraje = 1000\n",
        "   combustible=\"gasolina\"\n",
        "   puertas = 3\n",
        "## METODO\n",
        "   def desplazamiento(self):\n",
        "    print(\"El coche se esta desplazando sobre las 4 ruedas\")  \n",
        "\n",
        "## PROGRAMA PRINCIPAL\n",
        "\n",
        "\n",
        "# GENERAR INSTANCIA DE LA CLASE\n",
        "# INSTANCIAR UN OBJETO\n",
        "# DECLARAR UN OBJETO\n",
        "miVehiculo=Coche()\n",
        "obj_miCarrito = Coche()\n",
        "# ACCESO AL ATRIBUTO\n",
        "print(\"Mi coche tiene\", miVehiculo.ruedas,\"ruedas\")\n",
        "print(\"Mi coche tiene\", miVehiculo.combustible,\"combustible\")\n",
        "print(\"Mi coche tiene\", miVehiculo.cilindraje,\"cilindraje\")\n",
        "print(\"Mi coche tiene\", miVehiculo.puertas,\"puertas\")\n",
        "# forma que un objeto solicita la ejecucion de un metodo\n",
        "miVehiculo.desplazamiento()\n",
        "obj_miCarrito.desplazamiento()\n",
        "\n",
        "\n",
        "\n",
        "\n"
      ]
    },
    {
      "cell_type": "code",
      "source": [
        "#constructor\n",
        "class cachorro():\n",
        "  #metodo constructor\n",
        "  def __init__(self,p_color,p_raza):\n",
        "    self.color=p_color\n",
        "    self.raza=p_raza\n",
        "perrito= cachorro(\"Marron claro\",\"Golden retriever\")\n",
        "obj_perritodeVicky= cachorro(\"blanco\",\"shitzu\")\n",
        "obj_perritodeBrayan= cachorro(\"negro\",\"sin identificar\")\n",
        "\n",
        "\n",
        "\n",
        "print(\"Este es un cachorro de la raza {} y es de color{}\".format(perrito.raza,perrito.color))\n",
        "print(\"Este es un cachorro de vicky y la raza {} y es de color{}\".format(obj_perritodeVicky.raza,obj_perritodeVicky.color))\n",
        "print(\"Este es un cachorro de Brayan y la raza {} y es de color{}\".format(obj_perritodeBrayan.raza,obj_perritodeBrayan.color))\n",
        "\n"
      ],
      "metadata": {
        "id": "WrK6_gjv4o2o"
      },
      "execution_count": null,
      "outputs": []
    },
    {
      "cell_type": "code",
      "source": [
        "class Cachorro():\n",
        "\n",
        "  # Metodo constructor\n",
        "  def __init__(self, p_color, p_raza, p_nombre):\n",
        "    self.color = p_color\n",
        "    self.raza = p_raza\n",
        "    self.nombre = p_nombre\n",
        "\n",
        "# Metodo principal\n",
        "p_color = input(\"color : \")\n",
        "p_raza = input(\"raza : \")\n",
        "p_nombre = input(\"nombre : \")\n",
        "\n",
        "perrito = Cachorro(p_color,p_raza,p_nombre)\n",
        "print(\"Este es un cachorro sin dueño y la raza es {} y es de color {} y se llama {} \".format(perrito.raza, perrito.color, perrito.nombre))"
      ],
      "metadata": {
        "id": "RroRxu1uoyqz"
      },
      "execution_count": null,
      "outputs": []
    },
    {
      "cell_type": "code",
      "source": [
        "class C_Rectangulo:\n",
        "  def __init__(self,p_ancho,p_alto):\n",
        "     self.at_ancho=p_ancho\n",
        "     self.at_alto=p_alto\n",
        "\n",
        "  def m_area(self):\n",
        "       area=self.at_alto*self.at_ancho\n",
        "       return area \n",
        "\n",
        "  def m_perimetro(self):\n",
        "         perimetro=(self.at_alto*2)+(self.at_ancho*2)\n",
        "         return perimetro\n",
        "\n",
        "r1=C_Rectangulo(4,2)        \n",
        "area=r1.m_area()\n",
        "perimetro=r1.m_perimetro()\n",
        "print(\"El area es:\",area)\n",
        "print(\"El perimetro es:\",perimetro)\n",
        "\n",
        "p_ancho = int(input(\"Ancho: \"))\n",
        "p_alto = int(input(\"Alto: \"))\n",
        "\n",
        "obj_rect2=C_Rectangulo(p_ancho,p_alto)\n",
        "\n",
        "print(\"El area es:\",+obj_rect2.m_area())\n",
        "print(\"El perimetro es:\",+obj_rect2.m_perimetro())"
      ],
      "metadata": {
        "colab": {
          "base_uri": "https://localhost:8080/"
        },
        "id": "s9Pm1oBWt9Zd",
        "outputId": "cb44091a-1a6a-4c68-8596-5df90c2ead6e"
      },
      "execution_count": null,
      "outputs": [
        {
          "output_type": "stream",
          "name": "stdout",
          "text": [
            "El area es: 8\n",
            "El perimetro es: 12\n",
            "Ancho: 8\n",
            "Alto: 7\n",
            "El area es: 56\n",
            "El perimetro es: 30\n"
          ]
        }
      ]
    }
  ]
}