{
  "nbformat": 4,
  "nbformat_minor": 0,
  "metadata": {
    "colab": {
      "provenance": []
    },
    "kernelspec": {
      "name": "python3",
      "display_name": "Python 3"
    },
    "language_info": {
      "name": "python"
    }
  },
  "cells": [
    {
      "cell_type": "code",
      "source": [
        "class Coche():\n",
        "## ATRIBUTOS\n",
        "   ruedas=4\n",
        "   combustible=\"gasolina\"\n",
        "   cilindraje = 1000\n",
        "   puertas = 3\n",
        "## METODO\n",
        "   def desplazamiento(self):\n",
        "    print(\"El coche se esta desplazando sobre las 4 ruedas\")  \n",
        "\n",
        "## PROGRAMA PRINCIPAL\n",
        "\n",
        "\n",
        "# GENERAR INSTANCIA DE LA CLASE\n",
        "# INSTANCIAR UN OBJETO\n",
        "# DECLARAR UN OBJETO\n",
        "miVehiculo=Coche()\n",
        "obj_miCarrito = Coche()\n",
        "   # ACCESO AL ATRIBUTO\n",
        "print(\"Mi Coche tiene\", miVehiculo.ruedas,\"ruedas\")\n",
        "print(\"Mi Coche tiene\", miVehiculo.combustible,\"combustible\")\n",
        "print(\"Mi Coche tiene\", miVehiculo.cilindraje,\"cilindraje\")\n",
        "print(\"Mi Coche tiene\", miVehiculo.puertas,\"puertas\")\n",
        "# forma que un objeto solicita la ejecucion de un metodo\n",
        "miVehiculo.desplazamiento()\n",
        "obj_miCarrito.desplazamiento()"
      ],
      "metadata": {
        "colab": {
          "base_uri": "https://localhost:8080/"
        },
        "id": "APAoSEtMyLZt",
        "outputId": "f4456d0e-3132-43ca-cb33-b935a05408f1"
      },
      "execution_count": null,
      "outputs": [
        {
          "output_type": "stream",
          "name": "stdout",
          "text": [
            "Mi Coche tiene 4 ruedas\n",
            "Mi Coche tiene gasolina combustible\n",
            "Mi Coche tiene 1000 cilindraje\n",
            "Mi Coche tiene 3 puertas\n",
            "El coche se esta desplazando sobre las 4 ruedas\n",
            "El coche se esta desplazando sobre las 4 ruedas\n"
          ]
        }
      ]
    },
    {
      "cell_type": "code",
      "source": [],
      "metadata": {
        "id": "8UX23dsF3wJO"
      },
      "execution_count": null,
      "outputs": []
    },
    {
      "cell_type": "code",
      "source": [
        "class Coche():\n",
        "## ATRIBUTOS\n",
        "   ruedas=4\n",
        "   combustible=\"gasolina\"\n",
        "   cilindraje = 1000\n",
        "   puertas = 3\n",
        "## METODO\n",
        "   def desplazamiento(self):\n",
        "    print(\"El coche se esta desplazando sobre las 4 ruedas\")  \n",
        "\n",
        "## PROGRAMA PRINCIPAL\n",
        "\n",
        "\n",
        "# GENERAR INSTANCIA DE LA CLASE\n",
        "# INSTANCIAR UN OBJETO\n",
        "# DECLARAR UN OBJETO\n",
        "miVehiculo=Coche()\n",
        "obj_miCarrito = Coche()\n",
        "   # ACCESO AL ATRIBUTO\n",
        "print(\"Mi coche tiene\", miVehiculo.ruedas,\"ruedas\")\n",
        "print(\"Mi coche tiene\", miVehiculo.combustible,\"combustible\")\n",
        "print(\"Mi coche tiene\", miVehiculo.cilindraje,\"cilindraje\")\n",
        "print(\"Mi coche tiene\", miVehiculo.puertas,\"puertas\")\n",
        "# forma que un objeto solicita la ejecucion de un metodo\n",
        "miVehiculo.desplazamiento()\n",
        "obj_miCarrito.desplazamiento()"
      ],
      "metadata": {
        "colab": {
          "base_uri": "https://localhost:8080/"
        },
        "id": "GuN3pJWC3BPY",
        "outputId": "cbca270a-853f-4593-8cef-610a83e0c837"
      },
      "execution_count": null,
      "outputs": [
        {
          "output_type": "stream",
          "name": "stdout",
          "text": [
            "Mi coche tiene 4 ruedas\n",
            "Mi coche tiene gasolina combustible\n",
            "Mi coche tiene 1000 cilindraje\n",
            "Mi coche tiene 3 puertas\n",
            "El coche se esta desplazando sobre las 4 ruedas\n",
            "El coche se esta desplazando sobre las 4 ruedas\n"
          ]
        }
      ]
    },
    {
      "cell_type": "code",
      "source": [
        "class Coche():\n",
        "## ATRIBUTOS\n",
        "   ruedas=4\n",
        "   cilindraje = 1000\n",
        "   combustible=\"gasolina\"\n",
        "   puertas = 3\n",
        "## METODO\n",
        "   def desplazamiento(self):\n",
        "    print(\"El coche se esta desplazando sobre las 4 ruedas\")  \n",
        "\n",
        "## PROGRAMA PRINCIPAL\n",
        "\n",
        "\n",
        "# GENERAR INSTANCIA DE LA CLASE\n",
        "# INSTANCIAR UN OBJETO\n",
        "# DECLARAR UN OBJETO\n",
        "miVehiculo=Coche()\n",
        "obj_miCarrito = Coche()\n",
        "# ACCESO AL ATRIBUTO\n",
        "print(\"Mi coche tiene\", miVehiculo.ruedas,\"ruedas\")\n",
        "print(\"Mi coche tiene\", miVehiculo.combustible,\"combustible\")\n",
        "print(\"Mi coche tiene\", miVehiculo.cilindraje,\"cilindraje\")\n",
        "print(\"Mi coche tiene\", miVehiculo.puertas,\"puertas\")\n",
        "# forma que un objeto solicita la ejecucion de un metodo\n",
        "miVehiculo.desplazamiento()\n",
        "obj_miCarrito.desplazamiento()"
      ],
      "metadata": {
        "colab": {
          "base_uri": "https://localhost:8080/"
        },
        "id": "yHWyd0Xt2lyL",
        "outputId": "ac7c69ec-01f5-4c19-8eaf-e01a73212b3e"
      },
      "execution_count": null,
      "outputs": [
        {
          "output_type": "stream",
          "name": "stdout",
          "text": [
            "Mi coche tiene 4 ruedas\n",
            "Mi coche tiene gasolina combustible\n",
            "Mi coche tiene 1000 cilindraje\n",
            "Mi coche tiene 3 puertas\n",
            "El coche se esta desplazando sobre las 4 ruedas\n",
            "El coche se esta desplazando sobre las 4 ruedas\n"
          ]
        }
      ]
    },
    {
      "cell_type": "code",
      "source": [
        "# constructor\n",
        "class cachorro():\n",
        "  # metodo constructor\n",
        "  def __init__(self,p_color,p_raza,p_nombre):\n",
        "    self.color = p_color\n",
        "    self.raza = p_raza\n",
        "    self.nombre = p_nombre\n",
        "\n",
        "#metodo principal\n",
        "p_color = input(\"color: \")\n",
        "p_raza = input(\"raza: \")\n",
        "p_nombre = input(\"nombre: \")\n",
        "\n",
        "perrito = cachorro(p_color,p_raza,p_nombre)\n",
        "print(\"este es un cachorro sin dueño y la raza{} y es de color {} y se llama {}\".format(perrito.raza,perrito.color,perrito.nombre))"
      ],
      "metadata": {
        "colab": {
          "base_uri": "https://localhost:8080/"
        },
        "id": "-WPxkXshm8DN",
        "outputId": "8e981f0e-51e4-4dd0-e011-32b82658e355"
      },
      "execution_count": null,
      "outputs": [
        {
          "output_type": "stream",
          "name": "stdout",
          "text": [
            "color: gris\n",
            "raza: snauser\n",
            "nombre: max\n",
            "este es un cachorro sin dueño y la razasnauser y es de color gris y se llama max\n"
          ]
        }
      ]
    },
    {
      "cell_type": "code",
      "source": [
        "class C_Rectangulo:\n",
        "  def __init__(self,p_ancho,p_alto):\n",
        "    self.at_ancho=p_ancho\n",
        "    self.at_alto=p_alto\n",
        "\n",
        "  def m_area(self):\n",
        "      area=self.at_alto*self.at_ancho\n",
        "      return area\n",
        "  \n",
        "  def m_perimetro(self):\n",
        "    perimetro=(self.at_alto*2)+(self.at_ancho*2)\n",
        "    return perimetro\n",
        "  \n",
        "\n",
        "r1=C_Rectangulo(4,2)\n",
        "area=r1.m_area()\n",
        "perimetro=r1.m_perimetro()\n",
        "print(\"el area es:\",area)\n",
        "print(\"el perimetro es:\",perimetro)\n",
        "\n",
        "p_ancho = int(input(\"ancho:\"))\n",
        "p_alto = int(input(\"alto:\"))\n",
        "\n",
        "obj_rec2=C_Rectangulo(p_ancho,p_alto)\n",
        "\n",
        "print(\"el area es:\",+obj_rec2.m_area())\n",
        "print(\"el perimetro es:\",+obj_rec2.m_perimetro())\n",
        "\n",
        "\n",
        "\n"
      ],
      "metadata": {
        "colab": {
          "base_uri": "https://localhost:8080/"
        },
        "id": "aWItyPkhslrP",
        "outputId": "4ca34007-1aaa-4a1e-beed-053c3f96772c"
      },
      "execution_count": null,
      "outputs": [
        {
          "output_type": "stream",
          "name": "stdout",
          "text": [
            "el area es: 8\n",
            "el perimetro es: 12\n",
            "ancho:65\n",
            "alto:4\n",
            "el area es: 260\n",
            "el perimetro es: 138\n"
          ]
        }
      ]
    },
    {
      "cell_type": "code",
      "source": [
        ":numero= int(input(\"ingrese un numero:\"))\n",
        "def isLastFirstSame(number: int):\n",
        "    last = number %10\n",
        "\n",
        "    while (number> 10):\n",
        "        number = number / 10\n",
        "\n",
        "    first = int(number)\n",
        "\n",
        "    if last == first:\n",
        "        return(1)\n",
        "    else:\n",
        "        return(0)\n",
        "\n",
        "\n",
        "                           "
      ],
      "metadata": {
        "colab": {
          "base_uri": "https://localhost:8080/"
        },
        "id": "m-2ILww1g_Bp",
        "outputId": "e4a840ce-6570-44f9-932a-2b120af99781"
      },
      "execution_count": null,
      "outputs": [
        {
          "name": "stdout",
          "output_type": "stream",
          "text": [
            "ingrese un numero:5\n"
          ]
        }
      ]
    },
    {
      "cell_type": "code",
      "source": [
        "def isLastFirstSame(number: int):\n",
        "    last = number % 10\n",
        "\n",
        "    while (number> 10):\n",
        "        number = number / 10\n",
        "\n",
        "    first = int(number)\n",
        "\n",
        "    if last == first:\n",
        "        return(1)\n",
        "    else:\n",
        "        return(0)\n",
        "\n",
        "print(isLastFirstSame(505))"
      ],
      "metadata": {
        "id": "nSR575dMhd70"
      },
      "execution_count": null,
      "outputs": []
    }
  ]
}